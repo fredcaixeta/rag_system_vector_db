{
 "cells": [
  {
   "cell_type": "code",
   "execution_count": 1,
   "id": "3fb3a904",
   "metadata": {},
   "outputs": [],
   "source": [
    "import re\n",
    "\n",
    "pattern = r\"(\\d{1,2})(?:st|nd|rd|th)? Day of ([A-Za-z]+) (18\\d{2}) - ([A-Za-z\\s]+)\"\n",
    "\n",
    "# Exemplo de uso:\n",
    "def matching(text):\n",
    "    match = re.match(pattern, text)\n",
    "\n",
    "    if match:\n",
    "        day = match.group(1)\n",
    "        month = match.group(2)\n",
    "        year = match.group(3)\n",
    "        subtitle = match.group(4)\n",
    "        print(f\"Dia: {day}, Mês: {month}, Ano: {year}, Subtítulo: {subtitle}\")\n",
    "    else:\n",
    "        print(\"Padrão não encontrado.\")\n"
   ]
  },
  {
   "cell_type": "code",
   "execution_count": 2,
   "id": "557d8aba",
   "metadata": {},
   "outputs": [
    {
     "name": "stdout",
     "output_type": "stream",
     "text": [
      "Dia: 7, Mês: Emberglow, Ano: 1855, Subtítulo: Visions of the Dawnspire\n"
     ]
    }
   ],
   "source": [
    "text = \"7th Day of Emberglow 1855 - Visions of the Dawnspire\"\n",
    "matching(text)"
   ]
  }
 ],
 "metadata": {
  "kernelspec": {
   "display_name": "Python 3",
   "language": "python",
   "name": "python3"
  },
  "language_info": {
   "codemirror_mode": {
    "name": "ipython",
    "version": 3
   },
   "file_extension": ".py",
   "mimetype": "text/x-python",
   "name": "python",
   "nbconvert_exporter": "python",
   "pygments_lexer": "ipython3",
   "version": "3.11.9"
  }
 },
 "nbformat": 4,
 "nbformat_minor": 5
}
